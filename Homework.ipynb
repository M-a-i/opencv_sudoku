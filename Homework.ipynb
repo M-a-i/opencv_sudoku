{
 "cells": [
  {
   "cell_type": "code",
   "execution_count": 1,
   "metadata": {},
   "outputs": [],
   "source": [
    "import cv2\n",
    "import numpy as np\n",
    "import matplotlib.pyplot as plt\n",
    "import Recognition\n",
    "import KNN\n",
    "from PIL import Image\n",
    "import change0_1\n",
    "import solve"
   ]
  },
  {
   "cell_type": "code",
   "execution_count": 2,
   "metadata": {},
   "outputs": [],
   "source": [
    "import requests\n",
    "import random\n",
    "url='http://cvapi.gdieee.com/get_sudoku'\n",
    "params={\n",
    "    'id':random.randint(1,1000)\n",
    "}\n",
    "r=requests.get(url,params=params)  #params的参数必须为字典\n",
    "fr=open('/home/mai/photo','wb')    #open打开的是文档，不是文件夹\n",
    "fr.write(r.content)   #r.content为内容\n",
    "fr.close()"
   ]
  },
  {
   "cell_type": "code",
   "execution_count": 5,
   "metadata": {},
   "outputs": [
    {
     "name": "stdout",
     "output_type": "stream",
     "text": [
      "\n",
      "生成的数独\n",
      "\n",
      "[[0 0 8 6 0 0 8 8 9]\n",
      " [8 0 8 6 0 0 0 0 0]\n",
      " [0 9 0 0 9 6 0 0 0]\n",
      " [0 0 0 0 0 0 0 9 8]\n",
      " [0 0 0 0 0 0 0 0 0]\n",
      " [0 8 0 0 9 0 0 0 0]\n",
      " [8 0 0 0 0 8 8 0 9]\n",
      " [8 0 0 0 0 0 9 8 0]\n",
      " [8 0 0 6 0 8 0 8 0]]\n"
     ]
    }
   ],
   "source": [
    "img = cv2.imread('s.jpg')\n",
    "gray = cv2.cvtColor(img,cv2.COLOR_BGR2GRAY)\n",
    "## 阈值分割\n",
    "ret,thresh = cv2.threshold(gray,200,255,1)\n",
    "\n",
    "##膨胀\n",
    "kernel = cv2.getStructuringElement(cv2.MORPH_CROSS,(5, 5))     \n",
    "dilated = cv2.dilate(thresh,kernel)\n",
    " \n",
    "## 轮廓提取（findContours返回contours(组成轮廓的点集)，hierarchy(层级结构)）\n",
    "contours, hierarchy = cv2.findContours(dilated,cv2.RETR_TREE,cv2.CHAIN_APPROX_SIMPLE)  #cv2.RETR_TREE提取所有轮廓，建立网状的轮廓结构\n",
    "\n",
    "##　提取八十一个小方格\n",
    "boxes = []\n",
    "for i in range(len(hierarchy[0])):\n",
    "    if hierarchy[0][i][3] == 0:         #父轮廓都为0号轮廓（hierarchy[Next][Previous][Child][Parant])\n",
    "        boxes.append(hierarchy[0][i])\n",
    "        \n",
    "height,width = img.shape[:2]       #img.shape[:2] 取彩色图片的长、宽，如果img.shape[:3] 取取彩色图片的长、宽、通道 \n",
    "box_h = height/9\n",
    "box_w = width/9\n",
    "#print(\"box_h:\",box_h)\n",
    "#print(\"box_w:\",box_w)\n",
    "number_boxes = []\n",
    "\n",
    "## 数独初始化为零阵\n",
    "soduko = np.zeros((9, 9),np.int32)\n",
    "\n",
    "for j in range(len(boxes)):\n",
    "    if boxes[j][2] != -1:              #存在子轮廓\n",
    "        x,y,w,h = cv2.boundingRect(contours[boxes[j][2]])    #左上角为（0，0）坐标系，起始x,y点，w宽，h高\n",
    "        #print(x,y,w,h)\n",
    "        number_boxes.append([x,y,w,h])\n",
    "        #img = cv2.rectangle(img,(x-1,y-1),(x+w+1,y+h+1),(0,0,255),2)\n",
    "        #plt.imshow(img)\n",
    "        \n",
    "        ## 统一大小（cv2.resize（img，（宽，高））\n",
    "        resized_roi=cv2.resize(gray[y:y+h, x:x+w],(200,200))\n",
    "        #保存图片\n",
    "        cv2.imwrite('/home/mai/imgFile/x.pgm',resized_roi)\n",
    "        \n",
    "        #转化为0—1图片\n",
    "        imgDir='/home/mai/imgFile/x.pgm'\n",
    "        change0_1.changeImgFile(imgDir)\n",
    "\n",
    "        #数字识别\n",
    "        traindir= '/home/mai/test/mytrain'        #训练集提取了当前api端口图片1-9数字0-1图像，数量少但准确率100%，使用于当前题目\n",
    "        testdir = '/home/mai/test/mydigits'\n",
    "        number=Recognition.handwriteClassfiy(testdir, traindir, 1)\n",
    "        \n",
    "        ## 识别结果展示（cv2.putText（图片，添加的文字，角坐标，字体，字体大小，颜色，字体粗细））\n",
    "        cv2.putText(img,str(number),(x+w,y+h-20), 3, 1., (255, 0, 0),2)\n",
    "        \n",
    "        ## 求在矩阵中的位置，写入数字\n",
    "        #print(\"行：\",int(y/box_h))\n",
    "        #print(\"列：\",int(x/box_w))\n",
    "        if y<=227:                #当y<=227时，所得函数比实际值大1（原因不明，输出x,y,w,h和行列数后可看出错误）仅适用于从当前api口获得的图片\n",
    "            soduko[int(y/box_h-1)][int(x/box_w)]=number\n",
    "        else:\n",
    "            soduko[int(y/box_h)][int(x/box_w)]=number\n",
    "\n",
    "cv2.namedWindow(\"img\", cv2.WINDOW_NORMAL);\n",
    "cv2.imshow(\"img\", img)\n",
    "cv2.waitKey(30)\n",
    "print(\"\\n生成的数独\\n\")\n",
    "print(soduko)\n"
   ]
  },
  {
   "cell_type": "code",
   "execution_count": 6,
   "metadata": {},
   "outputs": [
    {
     "name": "stdout",
     "output_type": "stream",
     "text": [
      "\n",
      "求解后的数独\n",
      "\n",
      "[[1 2 8 6 3 4 8 8 9]\n",
      " [8 5 8 6 7 1 2 3 4]\n",
      " [4 9 5 7 9 6 3 2 1]\n",
      " [5 6 7 1 2 3 4 9 8]\n",
      " [9 4 3 8 6 5 7 1 2]\n",
      " [2 8 1 5 9 7 6 4 3]\n",
      " [8 7 4 2 1 8 8 5 9]\n",
      " [8 1 6 3 4 2 9 8 5]\n",
      " [8 3 2 6 5 8 1 8 7]]\n",
      "\n",
      "验算：求每行每列的和\n",
      "\n",
      "[49, 44, 46, 45, 45, 45, 52, 46, 48]\n",
      "[53, 45, 44, 44, 46, 44, 48, 48, 48]\n"
     ]
    },
    {
     "data": {
      "text/plain": [
       "-1"
      ]
     },
     "execution_count": 6,
     "metadata": {},
     "output_type": "execute_result"
    }
   ],
   "source": [
    "print(\"\\n求解后的数独\\n\")\n",
    "\n",
    "## 数独求解\n",
    "solve.solveSudoku(soduko)\n",
    "\n",
    "print(soduko)\n",
    "print(\"\\n验算：求每行每列的和\\n\")\n",
    "row_sum = map(sum,soduko)\n",
    "col_sum = map(sum,zip(*soduko))\n",
    "print(list(row_sum))\n",
    "print(list(col_sum))\n",
    "\n",
    "#print(sum(soduko.transpose))\n",
    "## 把结果按照位置填入图片中  \n",
    "for i in range(9):\n",
    "    for j in range(9):\n",
    "        x = int((i+0.25)*box_w)\n",
    "        y = int((j+0.5)*box_h)\n",
    "        cv2.putText(img,str(soduko[j][i]),(x,y), 3, 2., (0, 0, 255), 2, cv2.LINE_AA)\n",
    "\n",
    "cv2.namedWindow(\"img\", cv2.WINDOW_NORMAL)\n",
    "cv2.imshow(\"img\", img)\n",
    "cv2.waitKey(30)"
   ]
  }
 ],
 "metadata": {
  "kernelspec": {
   "display_name": "Python 3",
   "language": "python",
   "name": "python3"
  },
  "language_info": {
   "codemirror_mode": {
    "name": "ipython",
    "version": 3
   },
   "file_extension": ".py",
   "mimetype": "text/x-python",
   "name": "python",
   "nbconvert_exporter": "python",
   "pygments_lexer": "ipython3",
   "version": "3.7.0"
  }
 },
 "nbformat": 4,
 "nbformat_minor": 2
}
